{
 "cells": [
  {
   "cell_type": "code",
   "execution_count": null,
   "id": "9e3ca16f",
   "metadata": {},
   "outputs": [],
   "source": [
    "import tensorflow as tf\n",
    "import matplotlib.pyplot as plt\n",
    "import seaborn as sn\n",
    "import numpy as np # linear algebra\n",
    "import pandas as pd # data processing, CSV file I/O (e.g. pd.read_csv)\n",
    "import math\n",
    "import datetime\n",
    "import platform\n",
    "# Input data files are available in the read-only \"../input/\" directory\n",
    "# For example, running this (by clicking run or pressing Shift+Enter) will list all files under the input directory\n",
    "import os\n",
    "for dirname, _, filenames in os.walk('sample_submission.csv'):\n",
    "    for filename in filenames:\n",
    "        print(os.path.join(dirname, filename))\n",
    "# Load dataset\n",
    "train = pd.read_csv('train.csv')\n",
    "test = pd.read_csv('test.csv')"
   ]
  },
  {
   "cell_type": "code",
   "execution_count": null,
   "id": "20e65ebf",
   "metadata": {},
   "outputs": [],
   "source": [
    "print('train:', train.shape)\n",
    "print('test:', test.shape)\n",
    "X = train.iloc[:, 1:785]\n",
    "y = train.iloc[:, 0]\n",
    "X_test = test.iloc[:, 0:784]"
   ]
  },
  {
   "cell_type": "code",
   "execution_count": null,
   "id": "c060f801",
   "metadata": {},
   "outputs": [],
   "source": [
    "X_tsn = X/255\n",
    "from sklearn.manifold import TSNE\n",
    "from sklearn.impute import SimpleImputer\n",
    "# Create the imputer\n",
    "imputer = SimpleImputer(strategy='mean')\n",
    "\n",
    "# Fit and transform the data to replace NaNs\n",
    "X_tsn_imputed = imputer.fit_transform(X_tsn)\n",
    "\n",
    "# Now you can proceed with the TSNE transformation using X_tsn_imputed\n",
    "\n",
    "tsne = TSNE()\n",
    "tsne_res = tsne.fit_transform(X_tsn_imputed)\n",
    "plt.figure(figsize=(14, 12))\n",
    "plt.scatter(tsne_res[:,0], tsne_res[:,1], c=y, s=2)\n",
    "plt.xticks([])\n",
    "plt.yticks([])\n",
    "plt.colorbar()"
   ]
  },
  {
   "cell_type": "code",
   "execution_count": null,
   "id": "7556211f",
   "metadata": {},
   "outputs": [],
   "source": [
    "from sklearn.model_selection import train_test_split\n",
    "X_train, X_validation, y_train, y_validation = train_test_split(X, y, test_size = 0.2,random_state = 1212)"
   ]
  },
  {
   "cell_type": "code",
   "execution_count": null,
   "id": "3e485e60",
   "metadata": {},
   "outputs": [],
   "source": [
    "print('X_train:', X_train.shape)\n",
    "print('y_train:', y_train.shape)\n",
    "print('X_validation:', X_validation.shape)\n",
    "print('y_validation:', y_validation.shape)"
   ]
  },
  {
   "cell_type": "code",
   "execution_count": null,
   "id": "75c490ee",
   "metadata": {},
   "outputs": [],
   "source": [
    "x_train_re = X_train.to_numpy().reshape(-1, 28, 28,1)\n",
    "y_train_re = y_train.values\n",
    "x_validation_re = X_validation.to_numpy().reshape(-1, 28, 28,1)\n",
    "y_validation_re = y_validation.values\n",
    "x_test_re = test.to_numpy().reshape(-1, 28, 28,1)"
   ]
  },
  {
   "cell_type": "code",
   "execution_count": null,
   "id": "05e67cab",
   "metadata": {},
   "outputs": [],
   "source": [
    "print('x_train:', x_train_re.shape)\n",
    "print('y_train:', y_train_re.shape)\n",
    "print('x_validation:', x_validation_re.shape)\n",
    "print('y_validation:', y_validation_re.shape)\n",
    "print('x_test:', x_test_re.shape)\n",
    "# Save image parameters to the constants that we will use later for data re-shaping and for model traning.\n",
    "_, IMAGE_WIDTH, IMAGE_HEIGHT, IMAGE_CHANNELS = x_train_re.shape\n",
    "IMAGE_CHANNELS = 1\n",
    "print('IMAGE_WIDTH:', IMAGE_WIDTH);\n",
    "print('IMAGE_HEIGHT:', IMAGE_HEIGHT);\n",
    "print('IMAGE_CHANNELS:', IMAGE_CHANNELS);"
   ]
  },
  {
   "cell_type": "code",
   "execution_count": null,
   "id": "6a4287b9",
   "metadata": {},
   "outputs": [],
   "source": [
    "import matplotlib.pyplot as plt\n",
    "\n",
    "# Plot the first image in x_train_re\n",
    "plt.imshow(x_train_re[0].squeeze(), cmap='gray')\n",
    "plt.show()\n",
    "\n",
    "import pandas as pd\n",
    "\n",
    "# Flatten each image and create a DataFrame\n",
    "flattened_images = x_train_re.reshape(len(x_train_re), -1)\n",
    "df = pd.DataFrame(flattened_images)\n",
    "\n",
    "# Now, df is a DataFrame with 14684 rows and 784 columns representing flattened images.\n"
   ]
  },
  {
   "cell_type": "code",
   "execution_count": null,
   "id": "1c9eaa85",
   "metadata": {},
   "outputs": [],
   "source": [
    "plt.imshow(x_train_re[0], cmap=plt.cm.binary)\n",
    "plt.show()\n",
    "# Let's print some more training examples to get the feeling of how the digits were written.\n",
    "numbers_to_display = 25\n",
    "num_cells = math.ceil(math.sqrt(numbers_to_display))\n",
    "plt.figure(figsize=(10,10))\n",
    "for i in range(numbers_to_display):\n",
    "    plt.subplot(num_cells, num_cells, i+1)\n",
    "    plt.xticks([])\n",
    "    plt.yticks([])\n",
    "    plt.grid(False)\n",
    "    plt.imshow(x_train_re[i], cmap=plt.cm.binary)\n",
    "    plt.xlabel(y_train_re[i])\n",
    "plt.show()"
   ]
  },
  {
   "cell_type": "code",
   "execution_count": null,
   "id": "6543a20c",
   "metadata": {},
   "outputs": [],
   "source": [
    "x_train_with_chanels = x_train_re.reshape(\n",
    "    x_train_re.shape[0],\n",
    "    IMAGE_WIDTH,\n",
    "    IMAGE_HEIGHT,\n",
    "    IMAGE_CHANNELS\n",
    ")\n",
    "x_validation_with_chanels = x_validation_re.reshape(\n",
    "    x_validation_re.shape[0],\n",
    "    IMAGE_WIDTH,\n",
    "    IMAGE_HEIGHT,\n",
    "    IMAGE_CHANNELS\n",
    ")\n",
    "x_test_with_chanels = x_test_re.reshape(\n",
    "    x_test_re.shape[0],\n",
    "    IMAGE_WIDTH,\n",
    "    IMAGE_HEIGHT,\n",
    "    IMAGE_CHANNELS\n",
    ")\n",
    "print('x_train_with_chanels:', x_train_with_chanels.shape)\n",
    "print('x_validation_with_chanels:', x_validation_with_chanels.shape)\n",
    "print('x_test_with_chanels:', x_test_with_chanels.shape)"
   ]
  },
  {
   "cell_type": "code",
   "execution_count": null,
   "id": "b339c238",
   "metadata": {},
   "outputs": [],
   "source": [
    "x_train_normalized = x_train_with_chanels / 255\n",
    "x_validation_normalized = x_validation_with_chanels / 255\n",
    "x_test_normalized = x_test_with_chanels / 255"
   ]
  },
  {
   "cell_type": "code",
   "execution_count": null,
   "id": "13675129",
   "metadata": {},
   "outputs": [],
   "source": [
    "model = tf.keras.models.Sequential()\n",
    "model.add(tf.keras.layers.Convolution2D(\n",
    "    input_shape=(IMAGE_WIDTH, IMAGE_HEIGHT, IMAGE_CHANNELS),\n",
    "    kernel_size=5,\n",
    "    filters=8,\n",
    "    strides=1,\n",
    "    activation=tf.keras.activations.relu,\n",
    "    kernel_initializer=tf.keras.initializers.VarianceScaling()\n",
    "))\n",
    "model.add(tf.keras.layers.MaxPooling2D(\n",
    "    pool_size=(2, 2),\n",
    "    strides=(2, 2)\n",
    "))\n",
    "model.add(tf.keras.layers.Convolution2D(\n",
    "    kernel_size=5,\n",
    "    filters=16,\n",
    "    strides=1,\n",
    "    activation=tf.keras.activations.relu,\n",
    "    kernel_initializer=tf.keras.initializers.VarianceScaling()\n",
    "))\n",
    "model.add(tf.keras.layers.MaxPooling2D(\n",
    "    pool_size=(2, 2),\n",
    "    strides=(2, 2)\n",
    "))\n",
    "model.add(tf.keras.layers.Flatten())\n",
    "model.add(tf.keras.layers.Dense(\n",
    "    units=128,\n",
    "    activation=tf.keras.activations.relu\n",
    "));\n",
    "model.add(tf.keras.layers.Dropout(0.2))\n",
    "model.add(tf.keras.layers.Dense(\n",
    "    units=10,\n",
    "    activation=tf.keras.activations.softmax,\n",
    "    kernel_initializer=tf.keras.initializers.VarianceScaling()\n",
    "))"
   ]
  },
  {
   "cell_type": "code",
   "execution_count": null,
   "id": "158f5f77",
   "metadata": {},
   "outputs": [],
   "source": [
    "model.summary()"
   ]
  },
  {
   "cell_type": "code",
   "execution_count": null,
   "id": "5104fe67",
   "metadata": {},
   "outputs": [],
   "source": [
    "tf.keras.utils.plot_model(\n",
    "    model,\n",
    "    show_shapes=True,\n",
    "    show_layer_names=True,\n",
    ")"
   ]
  },
  {
   "cell_type": "code",
   "execution_count": null,
   "id": "181e8247",
   "metadata": {},
   "outputs": [],
   "source": [
    "adam_optimizer = tf.keras.optimizers.Adam(learning_rate=0.001)\n",
    "model.compile(\n",
    "    optimizer=adam_optimizer,\n",
    "    loss=tf.keras.losses.sparse_categorical_crossentropy,\n",
    "    metrics=['accuracy']\n",
    ")"
   ]
  },
  {
   "cell_type": "code",
   "execution_count": null,
   "id": "b2f7d2ec",
   "metadata": {},
   "outputs": [],
   "source": [
    "log_dir=\".logs/fit/\" + datetime.datetime.now().strftime(\"%Y%m%d-%H%M%S\")\n",
    "tensorboard_callback = tf.keras.callbacks.TensorBoard(log_dir=log_dir, histogram_freq=1)\n",
    "training_history = model.fit(\n",
    "    x_train_normalized,\n",
    "    y_train_re,\n",
    "    epochs=10,\n",
    "    validation_data=(x_validation_normalized, y_validation_re),\n",
    "    callbacks=[tensorboard_callback]\n",
    ")\n",
    "print(\"The model has successfully trained\")"
   ]
  },
  {
   "cell_type": "code",
   "execution_count": null,
   "id": "7611f0a0",
   "metadata": {},
   "outputs": [],
   "source": [
    "plt.xlabel('Epoch Number')\n",
    "plt.ylabel('Accuracy')\n",
    "plt.plot(training_history.history['loss'], label='training set')\n",
    "plt.plot(training_history.history['val_loss'], label='validation set')\n",
    "plt.legend()"
   ]
  },
  {
   "cell_type": "code",
   "execution_count": null,
   "id": "cd9ee480",
   "metadata": {},
   "outputs": [],
   "source": [
    "plt.xlabel('Epoch Number')\n",
    "plt.ylabel('Accuracy')\n",
    "plt.plot(training_history.history['accuracy'], label='training set')\n",
    "plt.plot(training_history.history['val_accuracy'], label='validation set')\n",
    "plt.legend()"
   ]
  },
  {
   "cell_type": "code",
   "execution_count": null,
   "id": "d90d05d1",
   "metadata": {},
   "outputs": [],
   "source": [
    "%%capture\n",
    "train_loss, train_accuracy = model.evaluate(x_train_normalized, y_train_re)\n",
    "print('Train loss: ', train_loss)\n",
    "print('Train accuracy: ', train_accuracy)"
   ]
  },
  {
   "cell_type": "code",
   "execution_count": null,
   "id": "ee15fd15",
   "metadata": {},
   "outputs": [],
   "source": [
    "model_name = 'digits_recognition_cnn.h5'\n",
    "model.save(model_name, save_format='h5')\n",
    "loaded_model = tf.keras.models.load_model(model_name)"
   ]
  },
  {
   "cell_type": "code",
   "execution_count": null,
   "id": "0bfc4bc0",
   "metadata": {},
   "outputs": [],
   "source": [
    "predictions_one_hot = loaded_model.predict([x_validation_normalized])\n",
    "# Let's extract predictions with highest probabilites and detect what digits have been actually recognized.\n",
    "predictions = np.argmax(predictions_one_hot, axis=1)\n",
    "pd.DataFrame(predictions)\n",
    "# Show the predicted image\n",
    "plt.imshow(x_validation_normalized[0].reshape((IMAGE_WIDTH, IMAGE_HEIGHT)), cmap=plt.cm.binary)\n",
    "plt.show()"
   ]
  },
  {
   "cell_type": "code",
   "execution_count": null,
   "id": "b856eff4",
   "metadata": {},
   "outputs": [],
   "source": [
    "numbers_to_display = 196\n",
    "num_cells = math.ceil(math.sqrt(numbers_to_display))\n",
    "plt.figure(figsize=(15, 15))\n",
    "for plot_index in range(numbers_to_display): \n",
    " predicted_label = predictions[plot_index]\n",
    " plt.xticks([])\n",
    " plt.yticks([])\n",
    " plt.grid(False)\n",
    " color_map = 'Greens' if predicted_label == y_validation_re[plot_index] else 'Reds'\n",
    " plt.subplot(num_cells, num_cells, plot_index + 1)\n",
    " plt.imshow(x_validation_normalized[plot_index].reshape((IMAGE_WIDTH, IMAGE_HEIGHT)), cmap=color_map)\n",
    " plt.xlabel(predicted_label)\n",
    "plt.subplots_adjust(hspace=1, wspace=0.5)\n",
    "plt.show()"
   ]
  },
  {
   "cell_type": "code",
   "execution_count": null,
   "id": "c86e5b7e",
   "metadata": {},
   "outputs": [],
   "source": [
    "confusion_matrix = tf.math.confusion_matrix(y_validation_re, predictions)\n",
    "f, ax = plt.subplots(figsize=(9, 7))\n",
    "sn.heatmap(\n",
    "    confusion_matrix,\n",
    "    annot=True,\n",
    "    linewidths=.5,\n",
    "    fmt=\"d\",\n",
    "    square=True,\n",
    "    ax=ax\n",
    ")\n",
    "plt.show()"
   ]
  },
  {
   "cell_type": "code",
   "execution_count": null,
   "id": "383620f5",
   "metadata": {},
   "outputs": [],
   "source": [
    "test_pred = pd.DataFrame( loaded_model.predict([x_test_normalized]))\n",
    "test_pred = pd.DataFrame(test_pred.idxmax(axis = 1))\n",
    "test_pred.index.name = 'ImageId'\n",
    "test_pred = test_pred.rename(columns = {0: 'Label'}).reset_index()\n",
    "test_pred['ImageId'] = test_pred['ImageId'] + 1\n",
    "test_pred.head()"
   ]
  }
 ],
 "metadata": {
  "kernelspec": {
   "display_name": "Python 3 (ipykernel)",
   "language": "python",
   "name": "python3"
  },
  "language_info": {
   "codemirror_mode": {
    "name": "ipython",
    "version": 3
   },
   "file_extension": ".py",
   "mimetype": "text/x-python",
   "name": "python",
   "nbconvert_exporter": "python",
   "pygments_lexer": "ipython3",
   "version": "3.9.12"
  }
 },
 "nbformat": 4,
 "nbformat_minor": 5
}
